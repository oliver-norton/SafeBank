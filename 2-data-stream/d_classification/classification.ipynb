{
 "cells": [
  {
   "cell_type": "code",
   "execution_count": null,
   "metadata": {},
   "outputs": [],
   "source": [
    "## import dataset \n",
    "\n",
    "# TstIdTr, TstIdTr_synth\n",
    "\n",
    "# producer from kafka "
   ]
  },
  {
   "cell_type": "code",
   "execution_count": null,
   "metadata": {},
   "outputs": [],
   "source": [
    "import lightgbm as lgb\n",
    "\n",
    "# Load the trained model from the file\n",
    "model = lgb.Booster(model_file='safeBank_lightGBM_model.txt')\n"
   ]
  },
  {
   "cell_type": "code",
   "execution_count": null,
   "metadata": {},
   "outputs": [],
   "source": [
    "# Make predictions using the model\n",
    "predictions = model.predict(new_data)\n",
    "\n",
    "# The output is an array of probabilities for the positive class\n",
    "# If you need binary predictions (0 or 1), you can apply a threshold (e.g., 0.5)\n",
    "binary_predictions = (predictions > 0.5).astype(int)"
   ]
  },
  {
   "cell_type": "code",
   "execution_count": null,
   "metadata": {},
   "outputs": [],
   "source": [
    "## store this , enrich dataset; send it to a topic "
   ]
  }
 ],
 "metadata": {
  "language_info": {
   "name": "python"
  }
 },
 "nbformat": 4,
 "nbformat_minor": 2
}
