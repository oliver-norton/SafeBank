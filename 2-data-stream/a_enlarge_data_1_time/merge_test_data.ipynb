{
 "cells": [
  {
   "cell_type": "code",
   "execution_count": 1,
   "metadata": {},
   "outputs": [],
   "source": [
    "import pandas as pd"
   ]
  },
  {
   "cell_type": "code",
   "execution_count": 2,
   "metadata": {},
   "outputs": [],
   "source": [
    "testTransaction = pd.read_csv('./../datasets/test_transaction.csv')\n",
    "testIdentity = pd.read_csv('./../datasets/test_identity.csv')\n",
    "\n",
    "# Merge the dataframes\n",
    "TstIdTr = pd.merge(testTransaction, testIdentity, on='TransactionID', how='left')\n"
   ]
  },
  {
   "cell_type": "code",
   "execution_count": 12,
   "metadata": {},
   "outputs": [
    {
     "data": {
      "text/plain": [
       "Index(['TransactionID', 'TransactionDT', 'TransactionAmt', 'ProductCD',\n",
       "       'card1', 'card2', 'card3', 'card4', 'card5', 'card6',\n",
       "       ...\n",
       "       'id-31', 'id-32', 'id-33', 'id-34', 'id-35', 'id-36', 'id-37', 'id-38',\n",
       "       'DeviceType', 'DeviceInfo'],\n",
       "      dtype='object', length=433)"
      ]
     },
     "execution_count": 12,
     "metadata": {},
     "output_type": "execute_result"
    }
   ],
   "source": [
    "TstIdTr.columns"
   ]
  },
  {
   "cell_type": "code",
   "execution_count": 24,
   "metadata": {},
   "outputs": [
    {
     "name": "stdout",
     "output_type": "stream",
     "text": [
      "Columns missing in loaded_columns: set()\n",
      "Columns missing in TstIdTr: {'isFraud'}\n"
     ]
    }
   ],
   "source": [
    "# validate any missing columns \n",
    "\n",
    "# Load the training column names from the saved file\n",
    "with open('trIdTr_columns.txt', 'r') as f:\n",
    "    loaded_columns = f.read().splitlines()\n",
    "\n",
    "# Convert both lists to sets\n",
    "set_TstIdTr = set(TstIdTr.columns)  # Extract column names as a set\n",
    "set_loaded_columns = set(loaded_columns)\n",
    "\n",
    "# Find columns in TstIdTr but not in loaded_columns\n",
    "missing_in_loaded = set_TstIdTr - set_loaded_columns\n",
    "\n",
    "# Find columns in loaded_columns but not in TstIdTr\n",
    "missing_in_TstIdTr = set_loaded_columns - set_TstIdTr\n",
    "\n",
    "print(\"Columns missing in loaded_columns:\", missing_in_loaded)\n",
    "print(\"Columns missing in TstIdTr:\", missing_in_TstIdTr)\n"
   ]
  },
  {
   "cell_type": "code",
   "execution_count": 23,
   "metadata": {},
   "outputs": [
    {
     "name": "stdout",
     "output_type": "stream",
     "text": [
      "Renamed columns: {'id-07': 'id_07', 'id-37': 'id_37', 'id-19': 'id_19', 'id-05': 'id_05', 'id-15': 'id_15', 'id-24': 'id_24', 'id-30': 'id_30', 'id-16': 'id_16', 'id-11': 'id_11', 'id-25': 'id_25', 'id-38': 'id_38', 'id-09': 'id_09', 'id-36': 'id_36', 'id-21': 'id_21', 'id-34': 'id_34', 'id-22': 'id_22', 'id-04': 'id_04', 'id-08': 'id_08', 'id-03': 'id_03', 'id-33': 'id_33', 'id-20': 'id_20', 'id-29': 'id_29', 'id-06': 'id_06', 'id-18': 'id_18', 'id-01': 'id_01', 'id-26': 'id_26', 'id-23': 'id_23', 'id-27': 'id_27', 'id-13': 'id_13', 'id-10': 'id_10', 'id-31': 'id_31', 'id-14': 'id_14', 'id-02': 'id_02', 'id-17': 'id_17', 'id-32': 'id_32', 'id-28': 'id_28', 'id-12': 'id_12', 'id-35': 'id_35'}\n",
      "Updated columns: Index(['TransactionID', 'TransactionDT', 'TransactionAmt', 'ProductCD',\n",
      "       'card1', 'card2', 'card3', 'card4', 'card5', 'card6',\n",
      "       ...\n",
      "       'id_31', 'id_32', 'id_33', 'id_34', 'id_35', 'id_36', 'id_37', 'id_38',\n",
      "       'DeviceType', 'DeviceInfo'],\n",
      "      dtype='object', length=433)\n"
     ]
    }
   ],
   "source": [
    "# Define the correct column names\n",
    "correct_columns = {'id_07', 'id_37', 'id_19', 'id_05', 'id_15', 'id_24', 'id_30', 'id_16', \n",
    "                   'id_11', 'id_25', 'id_38', 'id_09', 'id_36', 'id_21', 'id_34', 'id_22', \n",
    "                   'id_04', 'id_08', 'id_03', 'id_33', 'id_20', 'id_29', 'id_06', 'id_18', \n",
    "                   'id_01', 'id_26', 'id_23', 'id_27', 'id_13', 'id_10', 'id_31', 'id_14', \n",
    "                   'id_02', 'id_17', 'id_32', 'id_28', 'id_12', 'id_35'}\n",
    "\n",
    "# Get existing columns in TstIdTr\n",
    "existing_columns = set(TstIdTr.columns)\n",
    "\n",
    "# Find columns that need renaming (with '-' instead of '_')\n",
    "columns_to_rename = {col for col in existing_columns if col.replace('-', '_') in correct_columns}\n",
    "\n",
    "# Create a rename mapping\n",
    "rename_mapping = {col: col.replace('-', '_') for col in columns_to_rename}\n",
    "\n",
    "# Rename the columns in TstIdTr\n",
    "TstIdTr.rename(columns=rename_mapping, inplace=True)\n",
    "\n",
    "# Verify the column names\n",
    "print(\"Renamed columns:\", rename_mapping)\n",
    "print(\"Updated columns:\", TstIdTr.columns)\n"
   ]
  },
  {
   "cell_type": "code",
   "execution_count": 26,
   "metadata": {},
   "outputs": [
    {
     "data": {
      "text/html": [
       "<div>\n",
       "<style scoped>\n",
       "    .dataframe tbody tr th:only-of-type {\n",
       "        vertical-align: middle;\n",
       "    }\n",
       "\n",
       "    .dataframe tbody tr th {\n",
       "        vertical-align: top;\n",
       "    }\n",
       "\n",
       "    .dataframe thead th {\n",
       "        text-align: right;\n",
       "    }\n",
       "</style>\n",
       "<table border=\"1\" class=\"dataframe\">\n",
       "  <thead>\n",
       "    <tr style=\"text-align: right;\">\n",
       "      <th></th>\n",
       "      <th>TransactionID</th>\n",
       "      <th>TransactionDT</th>\n",
       "      <th>TransactionAmt</th>\n",
       "      <th>ProductCD</th>\n",
       "      <th>card1</th>\n",
       "      <th>card2</th>\n",
       "      <th>card3</th>\n",
       "      <th>card4</th>\n",
       "      <th>card5</th>\n",
       "      <th>card6</th>\n",
       "      <th>...</th>\n",
       "      <th>id_31</th>\n",
       "      <th>id_32</th>\n",
       "      <th>id_33</th>\n",
       "      <th>id_34</th>\n",
       "      <th>id_35</th>\n",
       "      <th>id_36</th>\n",
       "      <th>id_37</th>\n",
       "      <th>id_38</th>\n",
       "      <th>DeviceType</th>\n",
       "      <th>DeviceInfo</th>\n",
       "    </tr>\n",
       "  </thead>\n",
       "  <tbody>\n",
       "    <tr>\n",
       "      <th>0</th>\n",
       "      <td>3663549</td>\n",
       "      <td>18403224</td>\n",
       "      <td>31.95</td>\n",
       "      <td>W</td>\n",
       "      <td>10409</td>\n",
       "      <td>111.0</td>\n",
       "      <td>150.0</td>\n",
       "      <td>visa</td>\n",
       "      <td>226.0</td>\n",
       "      <td>debit</td>\n",
       "      <td>...</td>\n",
       "      <td>NaN</td>\n",
       "      <td>NaN</td>\n",
       "      <td>NaN</td>\n",
       "      <td>NaN</td>\n",
       "      <td>NaN</td>\n",
       "      <td>NaN</td>\n",
       "      <td>NaN</td>\n",
       "      <td>NaN</td>\n",
       "      <td>NaN</td>\n",
       "      <td>NaN</td>\n",
       "    </tr>\n",
       "    <tr>\n",
       "      <th>1</th>\n",
       "      <td>3663550</td>\n",
       "      <td>18403263</td>\n",
       "      <td>49.00</td>\n",
       "      <td>W</td>\n",
       "      <td>4272</td>\n",
       "      <td>111.0</td>\n",
       "      <td>150.0</td>\n",
       "      <td>visa</td>\n",
       "      <td>226.0</td>\n",
       "      <td>debit</td>\n",
       "      <td>...</td>\n",
       "      <td>NaN</td>\n",
       "      <td>NaN</td>\n",
       "      <td>NaN</td>\n",
       "      <td>NaN</td>\n",
       "      <td>NaN</td>\n",
       "      <td>NaN</td>\n",
       "      <td>NaN</td>\n",
       "      <td>NaN</td>\n",
       "      <td>NaN</td>\n",
       "      <td>NaN</td>\n",
       "    </tr>\n",
       "    <tr>\n",
       "      <th>2</th>\n",
       "      <td>3663551</td>\n",
       "      <td>18403310</td>\n",
       "      <td>171.00</td>\n",
       "      <td>W</td>\n",
       "      <td>4476</td>\n",
       "      <td>574.0</td>\n",
       "      <td>150.0</td>\n",
       "      <td>visa</td>\n",
       "      <td>226.0</td>\n",
       "      <td>debit</td>\n",
       "      <td>...</td>\n",
       "      <td>NaN</td>\n",
       "      <td>NaN</td>\n",
       "      <td>NaN</td>\n",
       "      <td>NaN</td>\n",
       "      <td>NaN</td>\n",
       "      <td>NaN</td>\n",
       "      <td>NaN</td>\n",
       "      <td>NaN</td>\n",
       "      <td>NaN</td>\n",
       "      <td>NaN</td>\n",
       "    </tr>\n",
       "  </tbody>\n",
       "</table>\n",
       "<p>3 rows × 433 columns</p>\n",
       "</div>"
      ],
      "text/plain": [
       "   TransactionID  TransactionDT  TransactionAmt ProductCD  card1  card2  \\\n",
       "0        3663549       18403224           31.95         W  10409  111.0   \n",
       "1        3663550       18403263           49.00         W   4272  111.0   \n",
       "2        3663551       18403310          171.00         W   4476  574.0   \n",
       "\n",
       "   card3 card4  card5  card6  ...  id_31  id_32  id_33  id_34 id_35 id_36  \\\n",
       "0  150.0  visa  226.0  debit  ...    NaN    NaN    NaN    NaN   NaN   NaN   \n",
       "1  150.0  visa  226.0  debit  ...    NaN    NaN    NaN    NaN   NaN   NaN   \n",
       "2  150.0  visa  226.0  debit  ...    NaN    NaN    NaN    NaN   NaN   NaN   \n",
       "\n",
       "   id_37  id_38  DeviceType  DeviceInfo  \n",
       "0    NaN    NaN         NaN         NaN  \n",
       "1    NaN    NaN         NaN         NaN  \n",
       "2    NaN    NaN         NaN         NaN  \n",
       "\n",
       "[3 rows x 433 columns]"
      ]
     },
     "execution_count": 26,
     "metadata": {},
     "output_type": "execute_result"
    }
   ],
   "source": [
    "TstIdTr.head(3)"
   ]
  },
  {
   "cell_type": "code",
   "execution_count": 27,
   "metadata": {},
   "outputs": [
    {
     "data": {
      "text/html": [
       "<div>\n",
       "<style scoped>\n",
       "    .dataframe tbody tr th:only-of-type {\n",
       "        vertical-align: middle;\n",
       "    }\n",
       "\n",
       "    .dataframe tbody tr th {\n",
       "        vertical-align: top;\n",
       "    }\n",
       "\n",
       "    .dataframe thead th {\n",
       "        text-align: right;\n",
       "    }\n",
       "</style>\n",
       "<table border=\"1\" class=\"dataframe\">\n",
       "  <thead>\n",
       "    <tr style=\"text-align: right;\">\n",
       "      <th></th>\n",
       "      <th>TransactionID</th>\n",
       "      <th>TransactionDT</th>\n",
       "      <th>TransactionAmt</th>\n",
       "      <th>ProductCD</th>\n",
       "      <th>card1</th>\n",
       "      <th>card2</th>\n",
       "      <th>card3</th>\n",
       "      <th>card4</th>\n",
       "      <th>card5</th>\n",
       "      <th>card6</th>\n",
       "      <th>...</th>\n",
       "      <th>id_31</th>\n",
       "      <th>id_32</th>\n",
       "      <th>id_33</th>\n",
       "      <th>id_34</th>\n",
       "      <th>id_35</th>\n",
       "      <th>id_36</th>\n",
       "      <th>id_37</th>\n",
       "      <th>id_38</th>\n",
       "      <th>DeviceType</th>\n",
       "      <th>DeviceInfo</th>\n",
       "    </tr>\n",
       "  </thead>\n",
       "  <tbody>\n",
       "    <tr>\n",
       "      <th>0</th>\n",
       "      <td>3663549</td>\n",
       "      <td>18403224</td>\n",
       "      <td>31.95</td>\n",
       "      <td>W</td>\n",
       "      <td>10409</td>\n",
       "      <td>111.0</td>\n",
       "      <td>150.0</td>\n",
       "      <td>visa</td>\n",
       "      <td>226.0</td>\n",
       "      <td>debit</td>\n",
       "      <td>...</td>\n",
       "      <td>NaN</td>\n",
       "      <td>NaN</td>\n",
       "      <td>NaN</td>\n",
       "      <td>NaN</td>\n",
       "      <td>NaN</td>\n",
       "      <td>NaN</td>\n",
       "      <td>NaN</td>\n",
       "      <td>NaN</td>\n",
       "      <td>NaN</td>\n",
       "      <td>NaN</td>\n",
       "    </tr>\n",
       "  </tbody>\n",
       "</table>\n",
       "<p>1 rows × 433 columns</p>\n",
       "</div>"
      ],
      "text/plain": [
       "   TransactionID  TransactionDT  TransactionAmt ProductCD  card1  card2  \\\n",
       "0        3663549       18403224           31.95         W  10409  111.0   \n",
       "\n",
       "   card3 card4  card5  card6  ...  id_31  id_32  id_33  id_34 id_35 id_36  \\\n",
       "0  150.0  visa  226.0  debit  ...    NaN    NaN    NaN    NaN   NaN   NaN   \n",
       "\n",
       "   id_37  id_38  DeviceType  DeviceInfo  \n",
       "0    NaN    NaN         NaN         NaN  \n",
       "\n",
       "[1 rows x 433 columns]"
      ]
     },
     "execution_count": 27,
     "metadata": {},
     "output_type": "execute_result"
    }
   ],
   "source": [
    "TstIdTr.head(1)"
   ]
  },
  {
   "cell_type": "code",
   "execution_count": 28,
   "metadata": {},
   "outputs": [],
   "source": [
    "import pickle as pkl"
   ]
  },
  {
   "cell_type": "code",
   "execution_count": 29,
   "metadata": {},
   "outputs": [],
   "source": [
    "TstIdTr.to_pickle('./../processed_datasets/TstIdTr.pkl')\n"
   ]
  },
  {
   "cell_type": "code",
   "execution_count": null,
   "metadata": {},
   "outputs": [],
   "source": [
    "# ### DATA CONNECTOR \n",
    "\n",
    "# load test_transaction\n",
    "# load test_identity \n",
    "\n",
    "# pull data from google drive API \n",
    "# select just column by column \n",
    "\n",
    "\n",
    "\n",
    "\n",
    "\n",
    "\n",
    "# verify columns match training set:\n",
    "\n",
    "\n",
    "\n",
    "# assert if either of above sets are both null, if not, print them and say missing columns\n",
    "\n",
    "# results in TstTrId.csv \n",
    "# stored in GoogleDrive with Google drive api "
   ]
  }
 ],
 "metadata": {
  "kernelspec": {
   "display_name": "base",
   "language": "python",
   "name": "python3"
  },
  "language_info": {
   "codemirror_mode": {
    "name": "ipython",
    "version": 3
   },
   "file_extension": ".py",
   "mimetype": "text/x-python",
   "name": "python",
   "nbconvert_exporter": "python",
   "pygments_lexer": "ipython3",
   "version": "3.8.8"
  }
 },
 "nbformat": 4,
 "nbformat_minor": 2
}
